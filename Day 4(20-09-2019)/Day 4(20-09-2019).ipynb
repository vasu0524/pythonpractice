{
 "cells": [
  {
   "cell_type": "code",
   "execution_count": 7,
   "metadata": {},
   "outputs": [
    {
     "name": "stdout",
     "output_type": "stream",
     "text": [
      "over\n",
      "hello\n",
      "Hi\n"
     ]
    }
   ],
   "source": [
    "\n",
    "def hello():\n",
    "    print(\"hello\")\n",
    "    print(\"Hi\")\n",
    "print(\"over\")\n",
    "hello()"
   ]
  },
  {
   "cell_type": "code",
   "execution_count": 8,
   "metadata": {},
   "outputs": [
    {
     "name": "stdout",
     "output_type": "stream",
     "text": [
      "i am without passing arguments amd without return \n"
     ]
    }
   ],
   "source": [
    "# without passing arguments amd without return result\n",
    "def show():\n",
    "    print(\"i am without passing arguments amd without return \")\n",
    "show()"
   ]
  },
  {
   "cell_type": "code",
   "execution_count": 13,
   "metadata": {},
   "outputs": [
    {
     "name": "stdout",
     "output_type": "stream",
     "text": [
      "i am without passing arguments amd return result\n"
     ]
    }
   ],
   "source": [
    "# without passing arguments amd return result\n",
    "def display():\n",
    "    return \"i am without passing arguments amd return result\"\n",
    "rs=display()\n",
    "print(rs)"
   ]
  },
  {
   "cell_type": "code",
   "execution_count": 14,
   "metadata": {},
   "outputs": [
    {
     "name": "stdout",
     "output_type": "stream",
     "text": [
      "addition of num1 and num2 is: 11\n"
     ]
    }
   ],
   "source": [
    "# passing arguments amd without return result\n",
    "def add(num1,num2):\n",
    "    print(\"addition of num1 and num2 is:\",num1+num2)\n",
    "add(5,6)\n",
    "    "
   ]
  },
  {
   "cell_type": "code",
   "execution_count": 15,
   "metadata": {},
   "outputs": [
    {
     "name": "stdout",
     "output_type": "stream",
     "text": [
      "addition of num1 and num2 is: 41\n"
     ]
    }
   ],
   "source": [
    "\n",
    "def add(num1,num2):\n",
    "    print(\"addition of num1 and num2 is:\",num1+num2)\n",
    "n1=3\n",
    "n2=38\n",
    "add(n1,n2)"
   ]
  },
  {
   "cell_type": "code",
   "execution_count": 20,
   "metadata": {},
   "outputs": [
    {
     "name": "stdout",
     "output_type": "stream",
     "text": [
      "mul of n1 and n2 is 30\n"
     ]
    }
   ],
   "source": [
    "# passing arguments amd return result\n",
    "def mul(n1,n2):\n",
    "    return n1*n2\n",
    "#print(\"multiplication of n1 and n2 is\",mul(6,5))\n",
    "rs=mul(5,6)\n",
    "print(\"mul of n1 and n2 is\",rs)"
   ]
  },
  {
   "cell_type": "code",
   "execution_count": 31,
   "metadata": {},
   "outputs": [
    {
     "name": "stdout",
     "output_type": "stream",
     "text": [
      "Enter a value:5\n",
      "Enter b value:5\n",
      "addition of a and b 10\n",
      "substraction of a and b numbers 0\n",
      "multiplication of a and b is 25\n",
      "divison of a and b is 1.0\n",
      "modul of a and b is 0\n"
     ]
    }
   ],
   "source": [
    "a=int(input(\"Enter a value:\"))\n",
    "b=int(input(\"Enter b value:\"))\n",
    "def add(a,b):\n",
    "    return a+b\n",
    "rs=add(a,b)\n",
    "print(\"addition of a and b\",rs)\n",
    "def sub(a,b):\n",
    "    return a-b\n",
    "rs=sub(a,b)\n",
    "print(\"substraction of a and b numbers\",rs)\n",
    "def mul(a,b):\n",
    "    return a*b\n",
    "rs=mul(a,b)\n",
    "print(\"multiplication of a and b is\",rs)\n",
    "def div(a,b):\n",
    "    return a/b\n",
    "rs=div(a,b)\n",
    "print(\"divison of a and b is\",rs)\n",
    "def mod(a,b):\n",
    "    return a%b\n",
    "rs=mod(a,b)\n",
    "print(\"modul of a and b is\",rs)\n",
    "   "
   ]
  },
  {
   "cell_type": "markdown",
   "metadata": {},
   "source": [
    "## other functions in python:\n",
    "- default arguments\n",
    "- required arguments\n",
    "- keyword arguments\n",
    "- variable length arguments"
   ]
  },
  {
   "cell_type": "code",
   "execution_count": 38,
   "metadata": {},
   "outputs": [
    {
     "name": "stdout",
     "output_type": "stream",
     "text": [
      "hello hi APSSDC MSTP\n"
     ]
    }
   ],
   "source": [
    "# Example for default arguments is print\n",
    "print(\"hello\",end=\" \")\n",
    "print(\"hi\",end=\" \")\n",
    "print(\"APSSDC MSTP\")"
   ]
  },
  {
   "cell_type": "code",
   "execution_count": 45,
   "metadata": {},
   "outputs": [
    {
     "name": "stdout",
     "output_type": "stream",
     "text": [
      "9 5\n",
      "6\n",
      "14\n"
     ]
    }
   ],
   "source": [
    "def add(n1=0,n2=0,n3=0,n4=0):\n",
    "    return n1+n2+n3+n4\n",
    "print(add(5,4),end=\" \")\n",
    "print(add(5))\n",
    "print(add(1,2,3))\n",
    "print(add(5,4,3,2))"
   ]
  },
  {
   "cell_type": "code",
   "execution_count": 46,
   "metadata": {},
   "outputs": [
    {
     "name": "stdout",
     "output_type": "stream",
     "text": [
      "9.5 5 6 14\n"
     ]
    }
   ],
   "source": [
    "def add(n1=0,n2=0,n3=0,n4=0):\n",
    "    return n1+n2+n3+n4\n",
    "print(add(5,4.5),add(5),add(1,2,3),add(5,4,3,2))"
   ]
  },
  {
   "cell_type": "code",
   "execution_count": 49,
   "metadata": {},
   "outputs": [
    {
     "data": {
      "text/plain": [
       "range(0, 4)"
      ]
     },
     "execution_count": 49,
     "metadata": {},
     "output_type": "execute_result"
    }
   ],
   "source": [
    "# example for required arguments is range\n",
    "range(4)"
   ]
  },
  {
   "cell_type": "code",
   "execution_count": 51,
   "metadata": {},
   "outputs": [
    {
     "name": "stdout",
     "output_type": "stream",
     "text": [
      "10\n"
     ]
    }
   ],
   "source": [
    "def mul(a,b):\n",
    "    return a*b\n",
    "print(mul(5,2))"
   ]
  },
  {
   "cell_type": "code",
   "execution_count": 59,
   "metadata": {},
   "outputs": [
    {
     "name": "stdout",
     "output_type": "stream",
     "text": [
      "1\n"
     ]
    }
   ],
   "source": [
    "# examples for keyword arguments is print(end=\",\")\n",
    "def power(base,exp=0):\n",
    "    return base**exp\n",
    "print(power(base=2))"
   ]
  },
  {
   "cell_type": "code",
   "execution_count": 67,
   "metadata": {},
   "outputs": [
    {
     "name": "stdout",
     "output_type": "stream",
     "text": [
      "5 <class 'list'>\n",
      "sum of val is: 15\n"
     ]
    }
   ],
   "source": [
    "# examples for variable length arguments\n",
    "def sm(vals):\n",
    "    print(len(vals),type(vals))\n",
    "    print(\"sum of val is:\",sum(vals))\n",
    "sm([1,2,3,4,5])"
   ]
  },
  {
   "cell_type": "markdown",
   "metadata": {},
   "source": [
    "## Conditional control statemnents:\n",
    "- it controls flow of program execution based on condition\n",
    "- these are 3 types\n",
    "    - conditional statements\n",
    "    - iterative statements or looping statements\n",
    "    - jumping statements"
   ]
  },
  {
   "cell_type": "markdown",
   "metadata": {},
   "source": [
    "# conditional statements :\n",
    "- if \n",
    "- if else\n",
    "- if else lader\n",
    "- nested if else"
   ]
  },
  {
   "cell_type": "code",
   "execution_count": 68,
   "metadata": {},
   "outputs": [
    {
     "name": "stdout",
     "output_type": "stream",
     "text": [
      "4 is smaller than 5\n"
     ]
    }
   ],
   "source": [
    "if 4<5:\n",
    "    print(\"4 is smaller than 5\")"
   ]
  },
  {
   "cell_type": "code",
   "execution_count": 74,
   "metadata": {},
   "outputs": [
    {
     "name": "stdout",
     "output_type": "stream",
     "text": [
      "ur in else block\n",
      "ur smaller\n"
     ]
    }
   ],
   "source": [
    "if 6<5:\n",
    "    print(\"ur in if block\")\n",
    "    print(\"ur bigger\")\n",
    "else:\n",
    "    print(\"ur in else block\")\n",
    "    print(\"ur smaller\")"
   ]
  },
  {
   "cell_type": "code",
   "execution_count": 76,
   "metadata": {},
   "outputs": [
    {
     "name": "stdout",
     "output_type": "stream",
     "text": [
      "ur in elif block\n"
     ]
    }
   ],
   "source": [
    "if 5<4:\n",
    "    print(\"True\")\n",
    "elif 6<7:\n",
    "    print(\"ur in elif block\")\n",
    "else:\n",
    "    print(\"False\")"
   ]
  },
  {
   "cell_type": "code",
   "execution_count": null,
   "metadata": {},
   "outputs": [],
   "source": []
  }
 ],
 "metadata": {
  "kernelspec": {
   "display_name": "Python 3",
   "language": "python",
   "name": "python3"
  },
  "language_info": {
   "codemirror_mode": {
    "name": "ipython",
    "version": 3
   },
   "file_extension": ".py",
   "mimetype": "text/x-python",
   "name": "python",
   "nbconvert_exporter": "python",
   "pygments_lexer": "ipython3",
   "version": "3.7.3"
  }
 },
 "nbformat": 4,
 "nbformat_minor": 2
}
