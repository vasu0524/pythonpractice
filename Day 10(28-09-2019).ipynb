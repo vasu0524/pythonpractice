{
 "cells": [
  {
   "cell_type": "markdown",
   "metadata": {},
   "source": [
    "## Contact application:\n",
    "- create contact.txt\n",
    "- read valid name,mobile numbers from user then"
   ]
  },
  {
   "cell_type": "code",
   "execution_count": 4,
   "metadata": {},
   "outputs": [
    {
     "name": "stdout",
     "output_type": "stream",
     "text": [
      "vasu:9866328546\n"
     ]
    },
    {
     "ename": "NameError",
     "evalue": "name 'names' is not defined",
     "output_type": "error",
     "traceback": [
      "\u001b[1;31m---------------------------------------------------------------------------\u001b[0m",
      "\u001b[1;31mNameError\u001b[0m                                 Traceback (most recent call last)",
      "\u001b[1;32m<ipython-input-4-40203369c354>\u001b[0m in \u001b[0;36m<module>\u001b[1;34m\u001b[0m\n\u001b[0;32m      6\u001b[0m         \u001b[0mmbnum\u001b[0m\u001b[1;33m.\u001b[0m\u001b[0mappend\u001b[0m\u001b[1;33m(\u001b[0m\u001b[0mline\u001b[0m\u001b[1;33m)\u001b[0m\u001b[1;33m\u001b[0m\u001b[1;33m\u001b[0m\u001b[0m\n\u001b[0;32m      7\u001b[0m     \u001b[1;32melse\u001b[0m\u001b[1;33m:\u001b[0m\u001b[1;33m\u001b[0m\u001b[1;33m\u001b[0m\u001b[0m\n\u001b[1;32m----> 8\u001b[1;33m         \u001b[0mnames\u001b[0m\u001b[1;33m.\u001b[0m\u001b[0mappend\u001b[0m\u001b[1;33m(\u001b[0m\u001b[0mline\u001b[0m\u001b[1;33m)\u001b[0m\u001b[1;33m\u001b[0m\u001b[1;33m\u001b[0m\u001b[0m\n\u001b[0m",
      "\u001b[1;31mNameError\u001b[0m: name 'names' is not defined"
     ]
    }
   ],
   "source": [
    "fh=open('contact.txt')\n",
    "for line in fh:\n",
    "    print(line.rstrip())\n",
    "    \n",
    "    if line.isdigit():\n",
    "        mbnum.append(line)\n",
    "    else:\n",
    "        names.append(line)"
   ]
  },
  {
   "cell_type": "code",
   "execution_count": 14,
   "metadata": {},
   "outputs": [
    {
     "name": "stdout",
     "output_type": "stream",
     "text": [
      "Enter name:siri\n",
      "Enter Mobile number:9874563210\n",
      "Contact has been creating....\n"
     ]
    }
   ],
   "source": [
    "import re\n",
    "filepath='textfiles/contacts.txt'\n",
    "def isValidName(name):\n",
    "    if re.search('^[a-zA-Z]{3,30}$',name):\n",
    "        return True\n",
    "    return False\n",
    "def isValidphNo(m_No):\n",
    "    if re.search('^[6-9][0-9]{9}$',m_No):\n",
    "        return True\n",
    "    return False\n",
    "def createContact(name,phno):\n",
    "    if isValidName(name) and isValidphNo(phno):\n",
    "        with open(filepath,'a') as fh:\n",
    "            fh.write(\"\\n\"+name+\"\\t\"+phno)\n",
    "            print(\"Contact has been creating....\")\n",
    "    else:\n",
    "        print(\"Enter valid name and Mobile number\")       \n",
    "name=input(\"Enter name:\")\n",
    "mobileno=input(\"Enter Mobile number:\")\n",
    "createContact(name,mobileno)"
   ]
  },
  {
   "cell_type": "code",
   "execution_count": 15,
   "metadata": {},
   "outputs": [
    {
     "name": "stdout",
     "output_type": "stream",
     "text": [
      "\n",
      "vasu\t9866328546\n",
      "lucky\t9652161630\n",
      "siri\t9874563210\n"
     ]
    }
   ],
   "source": [
    "filepath='textfiles/contacts.txt'\n",
    "def showContacts(filepath):\n",
    "    with open(filepath) as fh:\n",
    "        print(fh.read())\n",
    "showContacts(filepath)"
   ]
  },
  {
   "cell_type": "code",
   "execution_count": 18,
   "metadata": {},
   "outputs": [
    {
     "name": "stdout",
     "output_type": "stream",
     "text": [
      "Enter Name:pavi\n",
      "Enter valid name\n"
     ]
    }
   ],
   "source": [
    "filepath='textfiles/contacts.txt'\n",
    "def searchContact(name):\n",
    "    with open(filepath,'r') as fh:\n",
    "        for line in fh:\n",
    "            line=line.split()\n",
    "            if line[0]==name:\n",
    "                print(line[1])\n",
    "        \n",
    "        print(\"Enter valid name\")\n",
    "name=input(\"Enter Name:\")\n",
    "searchContact(name)"
   ]
  },
  {
   "cell_type": "code",
   "execution_count": 24,
   "metadata": {},
   "outputs": [],
   "source": [
    "import random as rd\n",
    "filepath='textfiles/marks.txt'\n",
    "def generateMarks():\n",
    "    for i in range(60):\n",
    "        score=rd.randint(0,100)\n",
    "        with open(filepath,'a') as fh:\n",
    "            fh.write(str(score)+\"\\n\")\n",
    "       \n",
    "            \n",
    "\n",
    "generateMarks()"
   ]
  },
  {
   "cell_type": "code",
   "execution_count": 25,
   "metadata": {},
   "outputs": [
    {
     "name": "stdout",
     "output_type": "stream",
     "text": [
      "33\n"
     ]
    }
   ],
   "source": [
    "filepath='textfiles/marks.txt'\n",
    "c=0\n",
    "with open(filepath,'r') as fh:\n",
    "    for i in fh:\n",
    "        #r=i.rsplit()\n",
    "        if int(i)>=35:\n",
    "           # print(i)\n",
    "            c+=1\n",
    "    print(c)\n",
    "    "
   ]
  },
  {
   "cell_type": "code",
   "execution_count": null,
   "metadata": {},
   "outputs": [],
   "source": []
  }
 ],
 "metadata": {
  "kernelspec": {
   "display_name": "Python 3",
   "language": "python",
   "name": "python3"
  },
  "language_info": {
   "codemirror_mode": {
    "name": "ipython",
    "version": 3
   },
   "file_extension": ".py",
   "mimetype": "text/x-python",
   "name": "python",
   "nbconvert_exporter": "python",
   "pygments_lexer": "ipython3",
   "version": "3.7.3"
  }
 },
 "nbformat": 4,
 "nbformat_minor": 2
}
