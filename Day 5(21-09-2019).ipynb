{
 "cells": [
  {
   "cell_type": "markdown",
   "metadata": {},
   "source": [
    "## Day 5(21-09-2019) Objectives:\n",
    "- iterative statements\n",
    "- jumping statements\n",
    "- python Datastructures\n",
    "    - list\n",
    "    - tuple\n",
    "    - Dictionaries\n",
    "    - sets"
   ]
  },
  {
   "cell_type": "markdown",
   "metadata": {},
   "source": [
    "### iterative statements:\n",
    "- Doing task again and again\n",
    "- two types of iterative statements\n",
    "    - for loop\n",
    "    - while loop"
   ]
  },
  {
   "cell_type": "code",
   "execution_count": 6,
   "metadata": {},
   "outputs": [
    {
     "data": {
      "text/plain": [
       "range(0, 7)"
      ]
     },
     "execution_count": 6,
     "metadata": {},
     "output_type": "execute_result"
    }
   ],
   "source": [
    "\n",
    "range(5,19,46)\n",
    "range(2,10)\n",
    "range(7)"
   ]
  },
  {
   "cell_type": "code",
   "execution_count": 13,
   "metadata": {},
   "outputs": [
    {
     "data": {
      "text/plain": [
       "2"
      ]
     },
     "execution_count": 13,
     "metadata": {},
     "output_type": "execute_result"
    }
   ],
   "source": [
    "'a' in 'hi ra'\n",
    "'101' in '101100101'\n",
    "'101100101'.count('101')"
   ]
  },
  {
   "cell_type": "code",
   "execution_count": 18,
   "metadata": {},
   "outputs": [
    {
     "name": "stdout",
     "output_type": "stream",
     "text": [
      "0\n",
      "1\n",
      "2\n",
      "3\n",
      "4\n",
      "5\n",
      "6\n",
      "7\n",
      "8\n",
      "9\n"
     ]
    }
   ],
   "source": [
    "for var_name in range(10):\n",
    "    print(var_name)\n",
    "    "
   ]
  },
  {
   "cell_type": "code",
   "execution_count": 17,
   "metadata": {},
   "outputs": [
    {
     "name": "stdout",
     "output_type": "stream",
     "text": [
      "0,1,2,3,4,5,6,7,8,9,"
     ]
    }
   ],
   "source": [
    "for var_name in range(10):\n",
    "    print(var_name,end=\",\")\n",
    "    "
   ]
  },
  {
   "cell_type": "code",
   "execution_count": 27,
   "metadata": {},
   "outputs": [
    {
     "name": "stdout",
     "output_type": "stream",
     "text": [
      "2 3 4 5 6 7 8 9 "
     ]
    }
   ],
   "source": [
    "for j in range(2,10):\n",
    "    print(j,end=\" \")"
   ]
  },
  {
   "cell_type": "code",
   "execution_count": 34,
   "metadata": {},
   "outputs": [
    {
     "name": "stdout",
     "output_type": "stream",
     "text": [
      "0 2 4 6 8 "
     ]
    }
   ],
   "source": [
    "for i in range(0,10,2):\n",
    "    print(i,end=\" \")"
   ]
  },
  {
   "cell_type": "code",
   "execution_count": 36,
   "metadata": {},
   "outputs": [
    {
     "name": "stdout",
     "output_type": "stream",
     "text": [
      "0 2 4 6 8 10 12 14 16 18 20 22 24 26 28 30 32 34 36 38 40 42 44 46 48 50 52 54 56 58 60 62 64 66 68 70 72 74 76 78 80 82 84 86 88 90 92 94 96 98 "
     ]
    }
   ],
   "source": [
    "# print 0 t0 100 even numbers: \n",
    "\n",
    "for even in range(0,100,2):\n",
    "    print(even,end=\" \")"
   ]
  },
  {
   "cell_type": "code",
   "execution_count": 41,
   "metadata": {},
   "outputs": [
    {
     "name": "stdout",
     "output_type": "stream",
     "text": [
      "1 3 5 7 9 11 13 15 17 19 21 23 25 27 29 31 33 35 37 39 41 43 45 47 49 51 53 55 57 59 61 63 65 67 69 71 73 75 77 79 81 83 85 87 89 91 93 95 97 99 "
     ]
    }
   ],
   "source": [
    "# print 1 to 100 odd numbers:\n",
    "\n",
    "for odd in range(1,100,2):\n",
    "    print(odd,end=\" \")"
   ]
  },
  {
   "cell_type": "code",
   "execution_count": 45,
   "metadata": {},
   "outputs": [
    {
     "name": "stdout",
     "output_type": "stream",
     "text": [
      "10 9 8 7 6 5 4 3 2 1 "
     ]
    }
   ],
   "source": [
    "for reverse in range(10,0,-1):\n",
    "    print(reverse,end=\" \")"
   ]
  },
  {
   "cell_type": "code",
   "execution_count": 47,
   "metadata": {},
   "outputs": [
    {
     "name": "stdout",
     "output_type": "stream",
     "text": [
      "100 98 96 94 92 90 88 86 84 82 80 78 76 74 72 70 68 66 64 62 60 58 56 54 52 50 48 46 44 42 40 38 36 34 32 30 28 26 24 22 20 18 16 14 12 10 8 6 4 2 "
     ]
    }
   ],
   "source": [
    "# print even numbers in between 1 to 100 in reverse order\n",
    "\n",
    "for reverse in range(100,0,-2):\n",
    "    print(reverse,end=\" \")"
   ]
  },
  {
   "cell_type": "code",
   "execution_count": 58,
   "metadata": {},
   "outputs": [
    {
     "name": "stdout",
     "output_type": "stream",
     "text": [
      "99 97 95 93 91 89 87 85 83 81 79 77 75 73 71 69 67 65 63 61 59 57 55 53 51 49 47 45 43 41 39 37 35 33 31 29 27 25 23 21 19 17 15 13 11 9 7 5 3 1 "
     ]
    }
   ],
   "source": [
    "# print odd numbers in between 1 to 100 in reverse order\n",
    "\n",
    "for reverse in range(99,0,-2):\n",
    "    print(reverse,end=\" \")"
   ]
  },
  {
   "cell_type": "code",
   "execution_count": 62,
   "metadata": {},
   "outputs": [
    {
     "name": "stdout",
     "output_type": "stream",
     "text": [
      "a\n",
      "c\n",
      "c\n"
     ]
    }
   ],
   "source": [
    "name=\"apssdc\"\n",
    "print(name[0])\n",
    "print(name[-1])\n",
    "print(name[len(name)-1])\n"
   ]
  },
  {
   "cell_type": "code",
   "execution_count": 68,
   "metadata": {},
   "outputs": [
    {
     "name": "stdout",
     "output_type": "stream",
     "text": [
      "a\n",
      "p\n",
      "s\n",
      "s\n",
      "d\n",
      "c\n"
     ]
    }
   ],
   "source": [
    "for index in range(len(name)):\n",
    "    print(name[index])"
   ]
  },
  {
   "cell_type": "code",
   "execution_count": 70,
   "metadata": {},
   "outputs": [
    {
     "name": "stdout",
     "output_type": "stream",
     "text": [
      "1 2 3 4 5 6 7 8 9 "
     ]
    }
   ],
   "source": [
    "for i in [1,2,3,4,5,6,7,8,9]:\n",
    "    print(i,end=\" \")"
   ]
  },
  {
   "cell_type": "code",
   "execution_count": 74,
   "metadata": {},
   "outputs": [
    {
     "name": "stdout",
     "output_type": "stream",
     "text": [
      "a,p,s,s,d,c,"
     ]
    }
   ],
   "source": [
    "for ch in name:\n",
    "    print(ch,end=\",\")"
   ]
  },
  {
   "cell_type": "code",
   "execution_count": 90,
   "metadata": {},
   "outputs": [
    {
     "name": "stdout",
     "output_type": "stream",
     "text": [
      "enter n value:5\n",
      "5 x 1 = 5\n",
      "5 x 2 = 10\n",
      "5 x 3 = 15\n",
      "5 x 4 = 20\n",
      "5 x 5 = 25\n",
      "5 x 6 = 30\n",
      "5 x 7 = 35\n",
      "5 x 8 = 40\n",
      "5 x 9 = 45\n",
      "5 x 10 = 50\n"
     ]
    }
   ],
   "source": [
    "# generate math table:\n",
    "\n",
    "n=int(input(\"enter n value:\"))\n",
    "for i in range(1,11):\n",
    "      print(n,'x',i,'=',n*i)\n",
    "      "
   ]
  },
  {
   "cell_type": "code",
   "execution_count": 102,
   "metadata": {},
   "outputs": [
    {
     "name": "stdout",
     "output_type": "stream",
     "text": [
      "enter n value:9\n",
      "1 x 1 = 1\n",
      "1 x 2 = 1\n",
      "1 x 3 = 1\n",
      "1 x 4 = 1\n",
      "1 x 5 = 1\n",
      "1 x 6 = 1\n",
      "1 x 7 = 1\n",
      "1 x 8 = 1\n",
      "1 x 9 = 1\n",
      "1 x 10 = 1\n",
      " \n",
      "2 x 1 = 2\n",
      "2 x 2 = 2\n",
      "2 x 3 = 2\n",
      "2 x 4 = 2\n",
      "2 x 5 = 2\n",
      "2 x 6 = 2\n",
      "2 x 7 = 2\n",
      "2 x 8 = 2\n",
      "2 x 9 = 2\n",
      "2 x 10 = 2\n",
      " \n",
      "3 x 1 = 3\n",
      "3 x 2 = 3\n",
      "3 x 3 = 3\n",
      "3 x 4 = 3\n",
      "3 x 5 = 3\n",
      "3 x 6 = 3\n",
      "3 x 7 = 3\n",
      "3 x 8 = 3\n",
      "3 x 9 = 3\n",
      "3 x 10 = 3\n",
      " \n",
      "4 x 1 = 4\n",
      "4 x 2 = 4\n",
      "4 x 3 = 4\n",
      "4 x 4 = 4\n",
      "4 x 5 = 4\n",
      "4 x 6 = 4\n",
      "4 x 7 = 4\n",
      "4 x 8 = 4\n",
      "4 x 9 = 4\n",
      "4 x 10 = 4\n",
      " \n",
      "5 x 1 = 5\n",
      "5 x 2 = 5\n",
      "5 x 3 = 5\n",
      "5 x 4 = 5\n",
      "5 x 5 = 5\n",
      "5 x 6 = 5\n",
      "5 x 7 = 5\n",
      "5 x 8 = 5\n",
      "5 x 9 = 5\n",
      "5 x 10 = 5\n",
      " \n",
      "6 x 1 = 6\n",
      "6 x 2 = 6\n",
      "6 x 3 = 6\n",
      "6 x 4 = 6\n",
      "6 x 5 = 6\n",
      "6 x 6 = 6\n",
      "6 x 7 = 6\n",
      "6 x 8 = 6\n",
      "6 x 9 = 6\n",
      "6 x 10 = 6\n",
      " \n",
      "7 x 1 = 7\n",
      "7 x 2 = 7\n",
      "7 x 3 = 7\n",
      "7 x 4 = 7\n",
      "7 x 5 = 7\n",
      "7 x 6 = 7\n",
      "7 x 7 = 7\n",
      "7 x 8 = 7\n",
      "7 x 9 = 7\n",
      "7 x 10 = 7\n",
      " \n",
      "8 x 1 = 8\n",
      "8 x 2 = 8\n",
      "8 x 3 = 8\n",
      "8 x 4 = 8\n",
      "8 x 5 = 8\n",
      "8 x 6 = 8\n",
      "8 x 7 = 8\n",
      "8 x 8 = 8\n",
      "8 x 9 = 8\n",
      "8 x 10 = 8\n",
      " \n",
      "9 x 1 = 9\n",
      "9 x 2 = 9\n",
      "9 x 3 = 9\n",
      "9 x 4 = 9\n",
      "9 x 5 = 9\n",
      "9 x 6 = 9\n",
      "9 x 7 = 9\n",
      "9 x 8 = 9\n",
      "9 x 9 = 9\n",
      "9 x 10 = 9\n",
      " \n"
     ]
    }
   ],
   "source": [
    "# math tables for given range:\n",
    "\n",
    "n=int(input(\"enter n value:\"))\n",
    "for j in range(1,n+1):\n",
    "    for i in range(1,11):\n",
    "        print(j,'x',i,'=',j*1)\n",
    "    print(\" \")\n"
   ]
  },
  {
   "cell_type": "code",
   "execution_count": 106,
   "metadata": {},
   "outputs": [
    {
     "name": "stdout",
     "output_type": "stream",
     "text": [
      "enter n value:4\n",
      "1 x 1 = 1     2 x 1 = 2     3 x 1 = 3     4 x 1 = 4     \n",
      "1 x 2 = 2     2 x 2 = 4     3 x 2 = 6     4 x 2 = 8     \n",
      "1 x 3 = 3     2 x 3 = 6     3 x 3 = 9     4 x 3 = 12     \n",
      "1 x 4 = 4     2 x 4 = 8     3 x 4 = 12     4 x 4 = 16     \n",
      "1 x 5 = 5     2 x 5 = 10     3 x 5 = 15     4 x 5 = 20     \n",
      "1 x 6 = 6     2 x 6 = 12     3 x 6 = 18     4 x 6 = 24     \n",
      "1 x 7 = 7     2 x 7 = 14     3 x 7 = 21     4 x 7 = 28     \n",
      "1 x 8 = 8     2 x 8 = 16     3 x 8 = 24     4 x 8 = 32     \n",
      "1 x 9 = 9     2 x 9 = 18     3 x 9 = 27     4 x 9 = 36     \n",
      "1 x 10 = 10     2 x 10 = 20     3 x 10 = 30     4 x 10 = 40     \n"
     ]
    }
   ],
   "source": [
    "n=int(input(\"enter n value:\"))\n",
    "for i in range(1,11):\n",
    "    for j in range(1,n+1):\n",
    "        print(j,'x',i,'=',i*j,end=\"     \")\n",
    "    print(\"\")"
   ]
  },
  {
   "cell_type": "code",
   "execution_count": 107,
   "metadata": {},
   "outputs": [
    {
     "name": "stdout",
     "output_type": "stream",
     "text": [
      "*\n",
      "**\n",
      "***\n",
      "****\n",
      "*****\n"
     ]
    }
   ],
   "source": [
    "# print *'s without using nested loops\n",
    "\n",
    "for i in range(1,6):\n",
    "    print('*'*i)"
   ]
  },
  {
   "cell_type": "code",
   "execution_count": 112,
   "metadata": {},
   "outputs": [
    {
     "name": "stdout",
     "output_type": "stream",
     "text": [
      "Enter a value:5\n",
      "enter b values:6\n",
      "enter c values2\n",
      "Biggest numnber: 6\n"
     ]
    }
   ],
   "source": [
    "# biggest of 3 numbers using functions:\n",
    "\n",
    "a=int(input(\"Enter a value:\"))\n",
    "b=int(input(\"enter b values:\"))\n",
    "c=int(input(\"enter c values\"))\n",
    "def big(a,b,c):\n",
    "    if a>b and a>c:\n",
    "        return(a)\n",
    "    elif b>c:\n",
    "        return(b)\n",
    "    else:\n",
    "        return(c)\n",
    "print(\"Biggest numnber:\",big(a,b,c))\n",
    "        "
   ]
  },
  {
   "cell_type": "code",
   "execution_count": null,
   "metadata": {},
   "outputs": [],
   "source": [
    "#+ of 3 numbers using functions:\n",
    "\n",
    "a=int(input(\"Enter a value:\"))\n",
    "b=int(input(\"enter b values:\"))\n",
    "c=int(input(\"enter c values\"))\n",
    "def big(a,b,c):\n",
    "    if a>b and a>c:\n",
    "        return(a)\n",
    "    elif b>c:\n",
    "        return(b)\n",
    "    else:\n",
    "        return(c)\n",
    "print(\"Biggest numnber:\",big(a,b,c))\n",
    "        "
   ]
  }
 ],
 "metadata": {
  "kernelspec": {
   "display_name": "Python 3",
   "language": "python",
   "name": "python3"
  },
  "language_info": {
   "codemirror_mode": {
    "name": "ipython",
    "version": 3
   },
   "file_extension": ".py",
   "mimetype": "text/x-python",
   "name": "python",
   "nbconvert_exporter": "python",
   "pygments_lexer": "ipython3",
   "version": "3.7.3"
  }
 },
 "nbformat": 4,
 "nbformat_minor": 2
}
