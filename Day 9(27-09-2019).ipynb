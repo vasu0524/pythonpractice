{
 "cells": [
  {
   "cell_type": "code",
   "execution_count": 5,
   "metadata": {},
   "outputs": [
    {
     "name": "stdout",
     "output_type": "stream",
     "text": [
      "2\n",
      "kjigH 34$kjkd\n",
      "lkjhI 34$lkle\n",
      "Hai Vasudha@Pv\n",
      "Ibj Wbtveib@Qw\n"
     ]
    }
   ],
   "source": [
    "# Encription\n",
    "## 2\n",
    "## Hai -->IJbj\n",
    "\n",
    "n=int(input())\n",
    "for i in range(n):\n",
    "    s=input()\n",
    "    str=\"\"\n",
    "    for ch in s:\n",
    "        if ch.isalpha():\n",
    "            str+=chr(ord(ch)+1)\n",
    "        else:\n",
    "            str+=ch\n",
    "    print(str)"
   ]
  },
  {
   "cell_type": "code",
   "execution_count": 2,
   "metadata": {},
   "outputs": [
    {
     "name": "stdout",
     "output_type": "stream",
     "text": [
      "2\n",
      "-5 9 8 -10 -78 -100 10\n",
      "166\n",
      "89 9 81 78 -99 -1 -989\n",
      "832\n"
     ]
    }
   ],
   "source": [
    "# Addtivi inverse\n",
    "## 2\n",
    "## input: -5 9 8 -10 -78 -100 10==>166\n",
    "## input:-89 9 81 78 -99 -1 -989==>101\n",
    "\n",
    "n= int(input())\n",
    "for i in range(n):\n",
    "    sm=0\n",
    "    s=input().split()\n",
    "    for j in s:\n",
    "        sm+=int(j)*-1\n",
    "    print(sm)"
   ]
  },
  {
   "cell_type": "code",
   "execution_count": null,
   "metadata": {},
   "outputs": [],
   "source": [
    "n=int(input())\n",
    "for i in range(n):\n",
    "    s=input()\n",
    "    s=set(s)\n",
    "    if len(s)==10:\n",
    "        print(\"True\")\n",
    "    else:\n",
    "        print(\"False\")"
   ]
  },
  {
   "cell_type": "markdown",
   "metadata": {},
   "source": [
    "## Files:\n",
    "- Collection of data\n",
    "- File Types:\n",
    "    - .csv\n",
    "    - .txt\n",
    "    - .pdf\n",
    "    - .exe\n",
    "    - .html\n",
    "    \n",
    "## Procedure to work on files:\n",
    "- need to open a file\n",
    "- based on requirement we can perforn related action\n",
    "- close file\n",
    "\n",
    "## File modes:\n",
    "- Read mode:in read mode we can perform only read opeartions\n",
    "- Write mode:in write mode we can perforn write operation\n",
    "- append mode:"
   ]
  },
  {
   "cell_type": "code",
   "execution_count": 15,
   "metadata": {},
   "outputs": [
    {
     "name": "stdout",
     "output_type": "stream",
     "text": [
      "hii,\n",
      "hello,\n",
      "welcome to python lab.\n"
     ]
    }
   ],
   "source": [
    "fh=open('mydata.txt')\n",
    "print(fh.read())\n",
    "fh.close()"
   ]
  },
  {
   "cell_type": "code",
   "execution_count": 19,
   "metadata": {},
   "outputs": [
    {
     "name": "stdout",
     "output_type": "stream",
     "text": [
      "hii,\n",
      "hello,\n",
      "welcome to python lab.\n"
     ]
    }
   ],
   "source": [
    "fh=open('mydata.txt')\n",
    "for line in fh:\n",
    "    print(line.rstrip())\n",
    "fh.close()"
   ]
  },
  {
   "cell_type": "code",
   "execution_count": 33,
   "metadata": {},
   "outputs": [],
   "source": [
    "fh=open('mydata1.txt','w')\n",
    "txt=\"I am from KSRMCE\"\n",
    "fh.write(txt)\n",
    "fh.close()"
   ]
  },
  {
   "cell_type": "code",
   "execution_count": 34,
   "metadata": {},
   "outputs": [],
   "source": [
    "fh=open('mydata1.txt','a')\n",
    "txt=\"I am from Apssdc\"\n",
    "fh.write(\"\\t\"+txt)\n",
    "fh.close()"
   ]
  },
  {
   "cell_type": "code",
   "execution_count": 32,
   "metadata": {},
   "outputs": [
    {
     "name": "stdout",
     "output_type": "stream",
     "text": [
      "hi\n",
      "hello\n",
      "how are u\n",
      "i am ksrm\n"
     ]
    }
   ],
   "source": [
    "path='textFiles/sample.txt'\n",
    "with open(path,'r') as fh:\n",
    "    for line in fh:\n",
    "        print(line.rstrip())"
   ]
  },
  {
   "cell_type": "code",
   "execution_count": 35,
   "metadata": {},
   "outputs": [
    {
     "name": "stdout",
     "output_type": "stream",
     "text": [
      "enter message:welcome to mstp\n"
     ]
    }
   ],
   "source": [
    "path='textFiles/sample1.txt'\n",
    "with open(path,'w') as fh:\n",
    "    txt=input(\"enter message:\")\n",
    "    fh.write(\"\\t\"+txt)"
   ]
  },
  {
   "cell_type": "code",
   "execution_count": 36,
   "metadata": {},
   "outputs": [
    {
     "name": "stdout",
     "output_type": "stream",
     "text": [
      "enter message:hii how are u\n"
     ]
    }
   ],
   "source": [
    "path='textFiles/sample1.txt'\n",
    "with open(path,'a') as fh:\n",
    "    txt=input(\"enter message:\")\n",
    "    fh.write(\"\\t\"+txt)"
   ]
  },
  {
   "cell_type": "code",
   "execution_count": null,
   "metadata": {},
   "outputs": [],
   "source": []
  }
 ],
 "metadata": {
  "kernelspec": {
   "display_name": "Python 3",
   "language": "python",
   "name": "python3"
  },
  "language_info": {
   "codemirror_mode": {
    "name": "ipython",
    "version": 3
   },
   "file_extension": ".py",
   "mimetype": "text/x-python",
   "name": "python",
   "nbconvert_exporter": "python",
   "pygments_lexer": "ipython3",
   "version": "3.7.3"
  }
 },
 "nbformat": 4,
 "nbformat_minor": 2
}
