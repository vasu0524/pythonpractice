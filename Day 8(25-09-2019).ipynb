{
 "cells": [
  {
   "cell_type": "markdown",
   "metadata": {},
   "source": [
    "## Regular Expressions:\n",
    "- Using regular expressions for performing validations\n",
    "    - client side-->javascript\n",
    "    - server side\n",
    "- accesing information in particular format\n",
    "- Regular expression is inbuilt moduleso import Regular expression\n",
    "- Few methods in Regular expressions thar are:match,search,findall"
   ]
  },
  {
   "cell_type": "code",
   "execution_count": 39,
   "metadata": {},
   "outputs": [],
   "source": [
    "import re\n"
   ]
  },
  {
   "cell_type": "code",
   "execution_count": 7,
   "metadata": {},
   "outputs": [],
   "source": [
    "re.match('a','vasudha')"
   ]
  },
  {
   "cell_type": "code",
   "execution_count": 8,
   "metadata": {},
   "outputs": [
    {
     "data": {
      "text/plain": [
       "<re.Match object; span=(0, 1), match='a'>"
      ]
     },
     "execution_count": 8,
     "metadata": {},
     "output_type": "execute_result"
    }
   ],
   "source": [
    "re.match('a','abdula')"
   ]
  },
  {
   "cell_type": "code",
   "execution_count": 26,
   "metadata": {},
   "outputs": [
    {
     "data": {
      "text/plain": [
       "<re.Match object; span=(1, 2), match='a'>"
      ]
     },
     "execution_count": 26,
     "metadata": {},
     "output_type": "execute_result"
    }
   ],
   "source": [
    "re.search('a','vasudha')"
   ]
  },
  {
   "cell_type": "code",
   "execution_count": 24,
   "metadata": {},
   "outputs": [
    {
     "data": {
      "text/plain": [
       "['a', 'a', 'a']"
      ]
     },
     "execution_count": 24,
     "metadata": {},
     "output_type": "execute_result"
    }
   ],
   "source": [
    "re.findall('a','vasudha sana')"
   ]
  },
  {
   "cell_type": "markdown",
   "metadata": {},
   "source": [
    "##  Python regular expression quick guide:\n",
    "- ^        Matches the beginning of a line\n",
    "- $        Matches the end of the line\n",
    "- .        Matches any character\n",
    "- \\s       Matches whitespace\n",
    "- \\S       Matches any non-whitespace character\n",
    "- *        Repeats a character zero or more times\n",
    "- *?       Repeats a character zero or more times (non-greedy)\n",
    "- +        Repeats a character one or more times\n",
    "- +?       Repeats a character one or more times (non-greedy)\n",
    "- [aeiou]  Matches a single character in the listed set\n",
    "- [^XYZ]   Matches a single character not in the listed set\n",
    "- [a-z0-9] The set of characters can include a range\n",
    "- (        Indicates where string extraction is to start\n",
    "- )        Indicates where string extraction is to end"
   ]
  },
  {
   "cell_type": "code",
   "execution_count": 31,
   "metadata": {},
   "outputs": [],
   "source": [
    "re.search('^a','passdc')# ^ works like a startswith in string"
   ]
  },
  {
   "cell_type": "code",
   "execution_count": 32,
   "metadata": {},
   "outputs": [
    {
     "data": {
      "text/plain": [
       "<re.Match object; span=(4, 5), match='l'>"
      ]
     },
     "execution_count": 32,
     "metadata": {},
     "output_type": "execute_result"
    }
   ],
   "source": [
    "re.search('l$','abdul')# $ works like a endswith in string"
   ]
  },
  {
   "cell_type": "code",
   "execution_count": 34,
   "metadata": {},
   "outputs": [
    {
     "data": {
      "text/plain": [
       "<re.Match object; span=(5, 6), match='l'>"
      ]
     },
     "execution_count": 34,
     "metadata": {},
     "output_type": "execute_result"
    }
   ],
   "source": [
    "re.search('l$','albdul')"
   ]
  },
  {
   "cell_type": "code",
   "execution_count": 37,
   "metadata": {},
   "outputs": [],
   "source": [
    "re.search('^al$','abdul')"
   ]
  },
  {
   "cell_type": "code",
   "execution_count": 44,
   "metadata": {},
   "outputs": [
    {
     "data": {
      "text/plain": [
       "<re.Match object; span=(0, 5), match='a...l'>"
      ]
     },
     "execution_count": 44,
     "metadata": {},
     "output_type": "execute_result"
    }
   ],
   "source": [
    "re.search('^a...l$','a...l')"
   ]
  },
  {
   "cell_type": "code",
   "execution_count": 46,
   "metadata": {},
   "outputs": [
    {
     "data": {
      "text/plain": [
       "<re.Match object; span=(0, 5), match='abdul'>"
      ]
     },
     "execution_count": 46,
     "metadata": {},
     "output_type": "execute_result"
    }
   ],
   "source": [
    "re.search('^a...l$','abdul')"
   ]
  },
  {
   "cell_type": "code",
   "execution_count": 49,
   "metadata": {},
   "outputs": [
    {
     "name": "stdout",
     "output_type": "stream",
     "text": [
      "abdul\n",
      "anil\n",
      "animal\n"
     ]
    }
   ],
   "source": [
    "# # write pattern to print names starts with 'a' using re:\n",
    "\n",
    "names=['abdul','sunil','anil','siva','animal']\n",
    "for name in names:\n",
    "    if re.search('^a',name):\n",
    "        print(name)\n"
   ]
  },
  {
   "cell_type": "code",
   "execution_count": 51,
   "metadata": {},
   "outputs": [
    {
     "name": "stdout",
     "output_type": "stream",
     "text": [
      "abdul\n",
      "sunil\n",
      "anil\n",
      "animal\n"
     ]
    }
   ],
   "source": [
    "# # write pattern to print names starts with 'a' using re:\n",
    "\n",
    "names=['abdul','sunil','anil','siva','animal']\n",
    "for name in names:\n",
    "    if re.search('l$',name):\n",
    "        print(name)"
   ]
  },
  {
   "cell_type": "code",
   "execution_count": 53,
   "metadata": {},
   "outputs": [
    {
     "name": "stdout",
     "output_type": "stream",
     "text": [
      "abdul\n",
      "anil\n",
      "animal\n",
      "al\n",
      "a565l\n"
     ]
    }
   ],
   "source": [
    "# write pattern to print names starts with 'a' and endswith 'l' using re:\n",
    "\n",
    "names1=['abdul','sunil','anil','siva','animal','al','a565l']\n",
    "for name in names1:\n",
    "    if re.search('^a.*l$',name):\n",
    "        print(name)"
   ]
  },
  {
   "cell_type": "code",
   "execution_count": 66,
   "metadata": {},
   "outputs": [
    {
     "name": "stdout",
     "output_type": "stream",
     "text": [
      "abdul\n",
      "anil\n",
      "aniJmal\n",
      "al\n"
     ]
    }
   ],
   "source": [
    "# write pattern to print names starts with 'a' and endswith 'l' using re:\n",
    "\n",
    "names1=['abdul','sunil','anil','siva','aniJmal','al','a565l']\n",
    "for name in names1:\n",
    "    if re.search('^a[a-zA-Z]*l$',name):\n",
    "        print(name)"
   ]
  },
  {
   "cell_type": "code",
   "execution_count": 57,
   "metadata": {},
   "outputs": [
    {
     "name": "stdout",
     "output_type": "stream",
     "text": [
      "abdul\n",
      "anil\n",
      "animal\n"
     ]
    }
   ],
   "source": [
    "# write pattern to print names starts with 'a' and endswith 'l' using re:\n",
    "\n",
    "names1=['abdul','sunil','anil','siva','animal','al','a565l']\n",
    "for name in names1:\n",
    "    if re.search('^a[a-z]+l$',name):\n",
    "        print(name)"
   ]
  },
  {
   "cell_type": "code",
   "execution_count": 65,
   "metadata": {},
   "outputs": [
    {
     "name": "stdout",
     "output_type": "stream",
     "text": [
      "423\n",
      "635816\n"
     ]
    }
   ],
   "source": [
    "nums=['423','243df','635816','jbhchsdb','gdv876']\n",
    "for num in nums:\n",
    "    if re.search('^[0-9][0-9]*[0-9]$',num):\n",
    "        print(num)"
   ]
  },
  {
   "cell_type": "code",
   "execution_count": 67,
   "metadata": {},
   "outputs": [
    {
     "name": "stdout",
     "output_type": "stream",
     "text": [
      "vasu\n",
      "siri\n"
     ]
    }
   ],
   "source": [
    "# print words which include vowel charactres:\n",
    "\n",
    "words=['try','vasu','cry','siri','fly']\n",
    "for word in words:\n",
    "    if re.search('[aeiou]',word):\n",
    "        print(word)"
   ]
  },
  {
   "cell_type": "code",
   "execution_count": 72,
   "metadata": {},
   "outputs": [
    {
     "name": "stdout",
     "output_type": "stream",
     "text": [
      "try\n",
      "cry\n",
      "fly\n"
     ]
    }
   ],
   "source": [
    "# print words without vowel characters:\n",
    "\n",
    "words=['try','vasu','cry','siri','fly']\n",
    "for word in words:\n",
    "    if not re.search('[aeiou]',word):\n",
    "        print(word)"
   ]
  },
  {
   "cell_type": "code",
   "execution_count": 76,
   "metadata": {},
   "outputs": [
    {
     "name": "stdout",
     "output_type": "stream",
     "text": [
      "enter num: 9866328546\n",
      "True\n"
     ]
    }
   ],
   "source": [
    "# write pattern to check given mobile numbers valid or not:\n",
    "# Rules for valid number\n",
    "# should be starts with[6-9]\n",
    "# length should be 10\n",
    "\n",
    "def validMnum(mbnum):\n",
    "    if re.search('^[6-9][0-9]{9}$',mbnum):\n",
    "        return True\n",
    "    return False\n",
    "num=input(\"enter num: \")\n",
    "print(validMnum(num))"
   ]
  },
  {
   "cell_type": "code",
   "execution_count": 77,
   "metadata": {},
   "outputs": [
    {
     "name": "stdout",
     "output_type": "stream",
     "text": [
      "['2', '19', '42']\n"
     ]
    }
   ],
   "source": [
    "x='My 2 favorite numbers are 19 and 42'\n",
    "y=re.findall('[0-9]+',x)\n",
    "print(y)"
   ]
  },
  {
   "cell_type": "code",
   "execution_count": null,
   "metadata": {},
   "outputs": [],
   "source": []
  }
 ],
 "metadata": {
  "kernelspec": {
   "display_name": "Python 3",
   "language": "python",
   "name": "python3"
  },
  "language_info": {
   "codemirror_mode": {
    "name": "ipython",
    "version": 3
   },
   "file_extension": ".py",
   "mimetype": "text/x-python",
   "name": "python",
   "nbconvert_exporter": "python",
   "pygments_lexer": "ipython3",
   "version": "3.7.3"
  }
 },
 "nbformat": 4,
 "nbformat_minor": 2
}
