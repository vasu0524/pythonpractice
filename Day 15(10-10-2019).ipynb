{
 "cells": [
  {
   "cell_type": "code",
   "execution_count": 1,
   "metadata": {},
   "outputs": [
    {
     "data": {
      "text/plain": [
       "{'A': 'E',\n",
       " 'B': 'F',\n",
       " 'C': 'G',\n",
       " 'D': 'H',\n",
       " 'E': 'I',\n",
       " 'F': 'J',\n",
       " 'G': 'K',\n",
       " 'H': 'L',\n",
       " 'I': 'M',\n",
       " 'J': 'N',\n",
       " 'K': 'O',\n",
       " 'L': 'P',\n",
       " 'M': 'Q',\n",
       " 'N': 'R',\n",
       " 'O': 'S',\n",
       " 'P': 'T',\n",
       " 'Q': 'U',\n",
       " 'R': 'V',\n",
       " 'S': 'W',\n",
       " 'T': 'X',\n",
       " 'U': 'Y',\n",
       " 'V': 'Z',\n",
       " 'W': 'A',\n",
       " 'X': 'B',\n",
       " 'Y': 'C',\n",
       " 'Z': 'D'}"
      ]
     },
     "execution_count": 1,
     "metadata": {},
     "output_type": "execute_result"
    }
   ],
   "source": [
    "encdec={}\n",
    "for i in range(65,91):\n",
    "    if i>=87:\n",
    "        encdec[chr(i)]=chr(i-22)\n",
    "    else:\n",
    "        encdec[chr(i)]=chr(i+4)\n",
    "encdec"
   ]
  },
  {
   "cell_type": "code",
   "execution_count": 3,
   "metadata": {},
   "outputs": [
    {
     "name": "stdout",
     "output_type": "stream",
     "text": [
      "VASU ZEWY\n"
     ]
    }
   ],
   "source": [
    "omsg=\"VASU\"\n",
    "encmsg=''\n",
    "for ch in omsg:\n",
    "    encmsg+=encdec[ch]\n",
    "print(omsg,encmsg)"
   ]
  },
  {
   "cell_type": "code",
   "execution_count": 11,
   "metadata": {},
   "outputs": [
    {
     "data": {
      "text/plain": [
       "{'E': 'A',\n",
       " 'F': 'B',\n",
       " 'G': 'C',\n",
       " 'H': 'D',\n",
       " 'I': 'E',\n",
       " 'J': 'F',\n",
       " 'K': 'G',\n",
       " 'L': 'H',\n",
       " 'M': 'I',\n",
       " 'N': 'J',\n",
       " 'O': 'K',\n",
       " 'P': 'L',\n",
       " 'Q': 'M',\n",
       " 'R': 'N',\n",
       " 'S': 'O',\n",
       " 'T': 'P',\n",
       " 'U': 'Q',\n",
       " 'V': 'R',\n",
       " 'W': 'S',\n",
       " 'X': 'T',\n",
       " 'Y': 'U',\n",
       " 'Z': 'V',\n",
       " 'A': 'W',\n",
       " 'B': 'X',\n",
       " 'C': 'Y',\n",
       " 'D': 'Z'}"
      ]
     },
     "execution_count": 11,
     "metadata": {},
     "output_type": "execute_result"
    }
   ],
   "source": [
    "decdic={}\n",
    "for i in range(65,91):\n",
    "    if i>=87:\n",
    "        decdic[chr(i-22)]=chr(i)\n",
    "    else:\n",
    "        decdic[chr(i+4)]=chr(i)\n",
    "decdic"
   ]
  },
  {
   "cell_type": "code",
   "execution_count": 18,
   "metadata": {},
   "outputs": [
    {
     "name": "stdout",
     "output_type": "stream",
     "text": [
      "VASU ZEWY RWOQ\n"
     ]
    }
   ],
   "source": [
    "omsg=\"VASU\"\n",
    "decmsg=''\n",
    "for i in omsg:\n",
    "    decmsg +=decdic[i]\n",
    "print(omsg,encmsg,decmsg)"
   ]
  },
  {
   "cell_type": "code",
   "execution_count": 32,
   "metadata": {},
   "outputs": [
    {
     "data": {
      "text/plain": [
       "{'a': 'e',\n",
       " 'b': 'f',\n",
       " 'c': 'g',\n",
       " 'd': 'h',\n",
       " 'e': 'i',\n",
       " 'f': 'j',\n",
       " 'g': 'k',\n",
       " 'h': 'l',\n",
       " 'i': 'm',\n",
       " 'j': 'n',\n",
       " 'k': 'o',\n",
       " 'l': 'p',\n",
       " 'm': 'q',\n",
       " 'n': 'r',\n",
       " 'o': 's',\n",
       " 'p': 't',\n",
       " 'q': 'u',\n",
       " 'r': 'v',\n",
       " 's': 'w',\n",
       " 't': 'x',\n",
       " 'u': 'y',\n",
       " 'v': 'z',\n",
       " 'w': 'a',\n",
       " 'x': 'b',\n",
       " 'y': 'c'}"
      ]
     },
     "execution_count": 32,
     "metadata": {},
     "output_type": "execute_result"
    }
   ],
   "source": [
    "ecdec={}\n",
    "for i in range(97,122):\n",
    "    if i>=119:\n",
    "        ecdec[chr(i)]=chr(i-22)\n",
    "    else:\n",
    "        ecdec[chr(i)]=chr(i+4)\n",
    "ecdec"
   ]
  },
  {
   "cell_type": "code",
   "execution_count": 44,
   "metadata": {},
   "outputs": [
    {
     "name": "stdout",
     "output_type": "stream",
     "text": [
      "siri wmvm\n"
     ]
    }
   ],
   "source": [
    "omsg=\"siri\"\n",
    "ecmsg=''\n",
    "for ch in omsg:\n",
    "    ecmsg+=ecdec[ch]\n",
    "print(omsg,ecmsg)"
   ]
  },
  {
   "cell_type": "code",
   "execution_count": 38,
   "metadata": {},
   "outputs": [
    {
     "data": {
      "text/plain": [
       "{'e': 'a',\n",
       " 'f': 'b',\n",
       " 'g': 'c',\n",
       " 'h': 'd',\n",
       " 'i': 'e',\n",
       " 'j': 'f',\n",
       " 'k': 'g',\n",
       " 'l': 'h',\n",
       " 'm': 'i',\n",
       " 'n': 'j',\n",
       " 'o': 'k',\n",
       " 'p': 'l',\n",
       " 'q': 'm',\n",
       " 'r': 'n',\n",
       " 's': 'o',\n",
       " 't': 'p',\n",
       " 'u': 'q',\n",
       " 'v': 'r',\n",
       " 'w': 's',\n",
       " 'x': 't',\n",
       " 'y': 'u',\n",
       " 'z': 'v',\n",
       " 'a': 'w',\n",
       " 'b': 'x',\n",
       " 'c': 'y'}"
      ]
     },
     "execution_count": 38,
     "metadata": {},
     "output_type": "execute_result"
    }
   ],
   "source": [
    "\n",
    "dcdic={}\n",
    "for i in range(97,122):\n",
    "    if i>=119:\n",
    "        dcdic[chr(i-22)]=chr(i)\n",
    "    else:\n",
    "        dcdic[chr(i+4)]=chr(i)\n",
    "dcdic\n",
    "\n",
    "\n",
    "\n",
    "\n"
   ]
  },
  {
   "cell_type": "code",
   "execution_count": 45,
   "metadata": {},
   "outputs": [
    {
     "name": "stdout",
     "output_type": "stream",
     "text": [
      "siri wmvm oene\n"
     ]
    }
   ],
   "source": [
    "ormsg=\"siri\"\n",
    "dcmsg=''\n",
    "for i in omsg:\n",
    "    dcmsg +=dcdic[i]\n",
    "print(ormsg,ecmsg,dcmsg)"
   ]
  },
  {
   "cell_type": "code",
   "execution_count": 58,
   "metadata": {},
   "outputs": [
    {
     "data": {
      "text/plain": [
       "{'0': '5',\n",
       " '1': '6',\n",
       " '2': '7',\n",
       " '3': '8',\n",
       " '4': '9',\n",
       " '5': '0',\n",
       " '6': '1',\n",
       " '7': '2',\n",
       " '8': '3',\n",
       " '9': '4'}"
      ]
     },
     "execution_count": 58,
     "metadata": {},
     "output_type": "execute_result"
    }
   ],
   "source": [
    "edc={}\n",
    "for i in range(0,10):\n",
    "    if i>4:\n",
    "        edc[str(i)]=str(i-5)\n",
    "    else:\n",
    "        edc[str(i)]=str(i+5)\n",
    "edc"
   ]
  },
  {
   "cell_type": "code",
   "execution_count": 59,
   "metadata": {},
   "outputs": [
    {
     "name": "stdout",
     "output_type": "stream",
     "text": [
      "1264 6719\n"
     ]
    }
   ],
   "source": [
    "omg='1264'\n",
    "emg=''\n",
    "for i in omg:\n",
    "    emg+=edc[i]\n",
    "print(omg,emg)"
   ]
  },
  {
   "cell_type": "code",
   "execution_count": 62,
   "metadata": {},
   "outputs": [
    {
     "data": {
      "text/plain": [
       "{'5': '0',\n",
       " '6': '1',\n",
       " '7': '2',\n",
       " '8': '3',\n",
       " '9': '4',\n",
       " '0': '5',\n",
       " '1': '6',\n",
       " '2': '7',\n",
       " '3': '8',\n",
       " '4': '9'}"
      ]
     },
     "execution_count": 62,
     "metadata": {},
     "output_type": "execute_result"
    }
   ],
   "source": [
    "dc={}\n",
    "for i in range(0,10):\n",
    "    if i>4:\n",
    "        dc[str(i-5)]=str(i)\n",
    "    else:\n",
    "        dc[str(i+5)]=str(i)\n",
    "dc"
   ]
  },
  {
   "cell_type": "code",
   "execution_count": 63,
   "metadata": {},
   "outputs": [
    {
     "name": "stdout",
     "output_type": "stream",
     "text": [
      "1264 6719 6719\n"
     ]
    }
   ],
   "source": [
    "dmg=''\n",
    "for i in omg:\n",
    "    dmg+=edc[i]\n",
    "print(omg,emg,dmg)"
   ]
  },
  {
   "cell_type": "code",
   "execution_count": null,
   "metadata": {},
   "outputs": [],
   "source": [
    "decdic={}\n",
    "def decAlgorithm():\n",
    "    for i in range(65,91):\n",
    "        if i>=87:\n",
    "            encdec[chr(i)]=chr(i-22)\n",
    "        else:\n",
    "            encdec[chr(i)]=chr(i+4)\n",
    "    for i in range(97,122):\n",
    "        if i>=119:\n",
    "            ecdec[chr(i)]=chr(i-22)\n",
    "        else:\n",
    "            ecdec[chr(i)]=chr(i+4)\n",
    "    for i in range(0,10):\n",
    "        if i>4:\n",
    "            edc[str(i)]=str(i-5)\n",
    "        else:\n",
    "            edc[str(i)]=str(i+5)"
   ]
  },
  {
   "cell_type": "code",
   "execution_count": null,
   "metadata": {},
   "outputs": [],
   "source": [
    "msg=\"Hi Vasudha this is your number 9866325246\"\n",
    "encmsg=''\n",
    "for ch in msg:\n",
    "    "
   ]
  }
 ],
 "metadata": {
  "kernelspec": {
   "display_name": "Python 3",
   "language": "python",
   "name": "python3"
  },
  "language_info": {
   "codemirror_mode": {
    "name": "ipython",
    "version": 3
   },
   "file_extension": ".py",
   "mimetype": "text/x-python",
   "name": "python",
   "nbconvert_exporter": "python",
   "pygments_lexer": "ipython3",
   "version": "3.7.3"
  }
 },
 "nbformat": 4,
 "nbformat_minor": 2
}
