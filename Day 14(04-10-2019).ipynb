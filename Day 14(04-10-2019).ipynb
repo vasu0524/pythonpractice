{
 "cells": [
  {
   "cell_type": "code",
   "execution_count": 1,
   "metadata": {},
   "outputs": [
    {
     "name": "stdout",
     "output_type": "stream",
     "text": [
      "100 200 5 100 400\n",
      "800\n"
     ]
    }
   ],
   "source": [
    "##print 3 digit numbers sum\n",
    "#input=100 200 5 100 400\n",
    "#output=800\n",
    "nums=input().split()\n",
    "sum=0\n",
    "for num in nums:\n",
    "    if len(num)==3:\n",
    "        sum+=int(num)\n",
    "print(sum)\n",
    "    "
   ]
  },
  {
   "cell_type": "code",
   "execution_count": 2,
   "metadata": {},
   "outputs": [
    {
     "name": "stdout",
     "output_type": "stream",
     "text": [
      "hello\n",
      "5\n",
      "hellohellohellohellohello\n"
     ]
    }
   ],
   "source": [
    "#String repetation:\n",
    "\n",
    "name=input()\n",
    "num=int(input())\n",
    "print(name*num)"
   ]
  },
  {
   "cell_type": "code",
   "execution_count": 3,
   "metadata": {},
   "outputs": [
    {
     "name": "stdout",
     "output_type": "stream",
     "text": [
      "523698741\n",
      "1\n",
      "4\n",
      "7\n",
      "8\n",
      "9\n",
      "6\n",
      "3\n",
      "2\n",
      "5\n"
     ]
    }
   ],
   "source": [
    "## digits reverse:\n",
    "s=input()\n",
    "for i in s[::-1]:\n",
    "    print(i)"
   ]
  },
  {
   "cell_type": "code",
   "execution_count": null,
   "metadata": {},
   "outputs": [],
   "source": [
    "##Mobiel Formate:\n",
    "\n",
    "n=int(input())\n",
    "nums=[]\n",
    "for i in range(n):\n",
    "    num=input()\n",
    "    if num.startswith('0'):\n",
    "        nums.append(num[1:])\n",
    "    elif(num.startswith('+91')):\n",
    "        nums.append(num[3:])\n",
    "    elif(num.startswith('+91')):\n",
    "        nums.append(num[2:]) \n",
    "    else:\n",
    "        nums.append(num)\n",
    "nums.sort()\n",
    "for num in nums:\n",
    "    print(\"+91-(\"+num[0:3]+\")-\"+num[3:6]+\"-\"+num[6:])\n"
   ]
  },
  {
   "cell_type": "code",
   "execution_count": null,
   "metadata": {},
   "outputs": [],
   "source": []
  }
 ],
 "metadata": {
  "kernelspec": {
   "display_name": "Python 3",
   "language": "python",
   "name": "python3"
  },
  "language_info": {
   "codemirror_mode": {
    "name": "ipython",
    "version": 3
   },
   "file_extension": ".py",
   "mimetype": "text/x-python",
   "name": "python",
   "nbconvert_exporter": "python",
   "pygments_lexer": "ipython3",
   "version": "3.7.3"
  }
 },
 "nbformat": 4,
 "nbformat_minor": 2
}
