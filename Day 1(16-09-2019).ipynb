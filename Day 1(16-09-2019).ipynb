{
 "cells": [
  {
   "cell_type": "markdown",
   "metadata": {},
   "source": [
    "### 16-sep-2019 Day Objectives:\n",
    "- Anaconda installation\n",
    "- About anaconda navigator\n",
    "- Difference between python Idle and Jupytor nootebook\n",
    "- About Jupytor notebook\n",
    "- Using jupytor notebook\n",
    "- Code mode and Markdown mode"
   ]
  },
  {
   "cell_type": "code",
   "execution_count": 2,
   "metadata": {},
   "outputs": [
    {
     "name": "stdout",
     "output_type": "stream",
     "text": [
      "Hai Hello Welcome to python\n",
      "i am from ksrm\n"
     ]
    }
   ],
   "source": [
    "print(\"Hai Hello Welcome to python\")\n",
    "print(\"i am from ksrm\")"
   ]
  },
  {
   "cell_type": "code",
   "execution_count": 3,
   "metadata": {},
   "outputs": [
    {
     "data": {
      "text/plain": [
       "5"
      ]
     },
     "execution_count": 3,
     "metadata": {},
     "output_type": "execute_result"
    }
   ],
   "source": [
    "2+3"
   ]
  },
  {
   "cell_type": "code",
   "execution_count": null,
   "metadata": {},
   "outputs": [],
   "source": []
  },
  {
   "cell_type": "code",
   "execution_count": 5,
   "metadata": {},
   "outputs": [
    {
     "data": {
      "text/plain": [
       "11"
      ]
     },
     "execution_count": 5,
     "metadata": {},
     "output_type": "execute_result"
    }
   ],
   "source": [
    "4+7"
   ]
  },
  {
   "cell_type": "markdown",
   "metadata": {},
   "source": [
    "# It will print like as header1 tag\n",
    "## header2 tag\n",
    "### all this hashes working like header tag\n",
    "#### it will work like as a h4 tag\n",
    "<p>I am using paragraph tag</p>\n",
    "<p><b>paragraph tag with bold tag</b></p>\n",
    "<img src=\"pythonLogo.png\" height=\"150px\" width=\"150px\">\n",
    "\n",
    "\n",
    "## HTML List\n",
    "- unordered list \n",
    "    - ul tag with li tag\n",
    "- ordered list\n",
    "    - Ol tag with li tag\n",
    "\n",
    " <a href=\"pythonLogo.png\">click here for advanced</a>"
   ]
  },
  {
   "cell_type": "code",
   "execution_count": null,
   "metadata": {},
   "outputs": [],
   "source": []
  }
 ],
 "metadata": {
  "kernelspec": {
   "display_name": "Python 3",
   "language": "python",
   "name": "python3"
  },
  "language_info": {
   "codemirror_mode": {
    "name": "ipython",
    "version": 3
   },
   "file_extension": ".py",
   "mimetype": "text/x-python",
   "name": "python",
   "nbconvert_exporter": "python",
   "pygments_lexer": "ipython3",
   "version": "3.7.3"
  }
 },
 "nbformat": 4,
 "nbformat_minor": 2
}
