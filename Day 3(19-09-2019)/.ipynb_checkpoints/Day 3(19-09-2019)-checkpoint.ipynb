{
 "cells": [
  {
   "cell_type": "code",
   "execution_count": 1,
   "metadata": {},
   "outputs": [
    {
     "name": "stdout",
     "output_type": "stream",
     "text": [
      "After swapping: 74 54\n"
     ]
    }
   ],
   "source": [
    "a,b=54,74\n",
    "a,b=b,a\n",
    "print(\"After swapping:\",a,b)"
   ]
  },
  {
   "cell_type": "code",
   "execution_count": 2,
   "metadata": {},
   "outputs": [
    {
     "name": "stdout",
     "output_type": "stream",
     "text": [
      "Enter a Value:5\n",
      "Enter b value:2\n",
      "Enter choice:1\n",
      "7\n",
      "Enter choice:2\n",
      "3\n",
      "Enter choice:3\n",
      "10\n",
      "Enter choice:4\n",
      "2.5\n",
      "Enter choice:5\n",
      "1\n",
      "Enter choice:6\n",
      "invalid\n",
      "Enter choice:7\n"
     ]
    }
   ],
   "source": [
    "a=int(input(\"Enter a Value:\"))\n",
    "b=int(input(\"Enter b value:\"))\n",
    "ch=int(input(\"Enter choice:\"))\n",
    "while ch<=6:\n",
    "    if ch==1:\n",
    "        c=a+b\n",
    "        print(c)\n",
    "    elif ch==2:\n",
    "        c=a-b\n",
    "        print(c)\n",
    "    elif ch==3:\n",
    "        c=a*b\n",
    "        print(c)\n",
    "    elif ch==4:\n",
    "        c=a/b\n",
    "        print(c)\n",
    "    elif ch==5:\n",
    "        c=a%b\n",
    "        print(c)\n",
    "    elif ch==6:\n",
    "        print(\"invalid\")\n",
    "    ch=int(input(\"Enter choice:\"))"
   ]
  },
  {
   "cell_type": "code",
   "execution_count": 6,
   "metadata": {},
   "outputs": [
    {
     "name": "stdout",
     "output_type": "stream",
     "text": [
      "Enter a Value:5\n",
      "Enter b value:2\n",
      "Addition of two numbers: 7\n",
      "substraction of two numbers: 3\n",
      "multiplication of two numbers: 10\n",
      "divison of two numbers: 2.5\n",
      "Module of two numbers: 1\n"
     ]
    }
   ],
   "source": [
    "a=int(input(\"Enter a Value:\"))\n",
    "b=int(input(\"Enter b value:\"))\n",
    "c=a+b\n",
    "print(\"Addition of two numbers:\",c)\n",
    "c=a-b\n",
    "print(\"substraction of two numbers:\",c)\n",
    "c=a*b\n",
    "print(\"multiplication of two numbers:\",c)\n",
    "c=a/b\n",
    "print(\"divison of two numbers:\",c)\n",
    "c=a%b\n",
    "print(\"Module of two numbers:\",c)\n"
   ]
  },
  {
   "cell_type": "markdown",
   "metadata": {},
   "source": [
    "### Strings:\n",
    " - collection of characters\n",
    "#### Accesing string values usint inex position:\n",
    "- there two ways\n",
    "    - 1.Forawar index\n",
    "    - 2.Backward index"
   ]
  },
  {
   "cell_type": "code",
   "execution_count": 9,
   "metadata": {},
   "outputs": [],
   "source": [
    "s1=\"Python workshop\"\n",
    "s2=\"Hello\""
   ]
  },
  {
   "cell_type": "code",
   "execution_count": 12,
   "metadata": {},
   "outputs": [
    {
     "data": {
      "text/plain": [
       "'Python workshop'"
      ]
     },
     "execution_count": 12,
     "metadata": {},
     "output_type": "execute_result"
    }
   ],
   "source": [
    "s2\n",
    "s1"
   ]
  },
  {
   "cell_type": "code",
   "execution_count": 13,
   "metadata": {},
   "outputs": [
    {
     "data": {
      "text/plain": [
       "('Python workshop', 'Hello')"
      ]
     },
     "execution_count": 13,
     "metadata": {},
     "output_type": "execute_result"
    }
   ],
   "source": [
    "s1,s2"
   ]
  },
  {
   "cell_type": "code",
   "execution_count": 17,
   "metadata": {},
   "outputs": [
    {
     "data": {
      "text/plain": [
       "5"
      ]
     },
     "execution_count": 17,
     "metadata": {},
     "output_type": "execute_result"
    }
   ],
   "source": [
    "len(s1)\n",
    "len(s2)"
   ]
  },
  {
   "cell_type": "code",
   "execution_count": 16,
   "metadata": {},
   "outputs": [
    {
     "data": {
      "text/plain": [
       "5"
      ]
     },
     "execution_count": 16,
     "metadata": {},
     "output_type": "execute_result"
    }
   ],
   "source": [
    "len(s2)"
   ]
  },
  {
   "cell_type": "code",
   "execution_count": 20,
   "metadata": {},
   "outputs": [
    {
     "name": "stdout",
     "output_type": "stream",
     "text": [
      " \n",
      "fbhnbfvn\n",
      "fjhjsfnhj\n",
      "njfdhkjfh\n",
      "jfgbjhru\n",
      "\n"
     ]
    },
    {
     "data": {
      "text/plain": [
       "40"
      ]
     },
     "execution_count": 20,
     "metadata": {},
     "output_type": "execute_result"
    }
   ],
   "source": [
    "txt=\"\"\" \n",
    "fbhnbfvn\n",
    "fjhjsfnhj\n",
    "njfdhkjfh\n",
    "jfgbjhru\n",
    "\"\"\"\n",
    "print(txt)\n",
    "len(txt)"
   ]
  },
  {
   "cell_type": "code",
   "execution_count": 21,
   "metadata": {},
   "outputs": [
    {
     "data": {
      "text/plain": [
       "'Python workshop'"
      ]
     },
     "execution_count": 21,
     "metadata": {},
     "output_type": "execute_result"
    }
   ],
   "source": [
    "s1"
   ]
  },
  {
   "cell_type": "code",
   "execution_count": 23,
   "metadata": {},
   "outputs": [
    {
     "data": {
      "text/plain": [
       "'w'"
      ]
     },
     "execution_count": 23,
     "metadata": {},
     "output_type": "execute_result"
    }
   ],
   "source": [
    "s1[7]"
   ]
  },
  {
   "cell_type": "code",
   "execution_count": 24,
   "metadata": {},
   "outputs": [
    {
     "data": {
      "text/plain": [
       "'p'"
      ]
     },
     "execution_count": 24,
     "metadata": {},
     "output_type": "execute_result"
    }
   ],
   "source": [
    "s1[-1]"
   ]
  },
  {
   "cell_type": "code",
   "execution_count": 30,
   "metadata": {},
   "outputs": [
    {
     "data": {
      "text/plain": [
       "'Python workshop'"
      ]
     },
     "execution_count": 30,
     "metadata": {},
     "output_type": "execute_result"
    }
   ],
   "source": [
    "s1[0:15]"
   ]
  },
  {
   "cell_type": "code",
   "execution_count": 31,
   "metadata": {},
   "outputs": [
    {
     "data": {
      "text/plain": [
       "'Python w'"
      ]
     },
     "execution_count": 31,
     "metadata": {},
     "output_type": "execute_result"
    }
   ],
   "source": [
    "s1[:8]"
   ]
  },
  {
   "cell_type": "code",
   "execution_count": 33,
   "metadata": {},
   "outputs": [
    {
     "data": {
      "text/plain": [
       "'workshop'"
      ]
     },
     "execution_count": 33,
     "metadata": {},
     "output_type": "execute_result"
    }
   ],
   "source": [
    "s1[7:]"
   ]
  },
  {
   "cell_type": "code",
   "execution_count": 44,
   "metadata": {},
   "outputs": [
    {
     "data": {
      "text/plain": [
       "'P'"
      ]
     },
     "execution_count": 44,
     "metadata": {},
     "output_type": "execute_result"
    }
   ],
   "source": [
    "s1[0:4:15]"
   ]
  },
  {
   "cell_type": "code",
   "execution_count": 39,
   "metadata": {},
   "outputs": [
    {
     "data": {
      "text/plain": [
       "'yhnwrso'"
      ]
     },
     "execution_count": 39,
     "metadata": {},
     "output_type": "execute_result"
    }
   ],
   "source": [
    "s1[1::2]"
   ]
  },
  {
   "cell_type": "code",
   "execution_count": null,
   "metadata": {},
   "outputs": [],
   "source": []
  }
 ],
 "metadata": {
  "kernelspec": {
   "display_name": "Python 3",
   "language": "python",
   "name": "python3"
  },
  "language_info": {
   "codemirror_mode": {
    "name": "ipython",
    "version": 3
   },
   "file_extension": ".py",
   "mimetype": "text/x-python",
   "name": "python",
   "nbconvert_exporter": "python",
   "pygments_lexer": "ipython3",
   "version": "3.7.3"
  }
 },
 "nbformat": 4,
 "nbformat_minor": 2
}
